{
 "cells": [
  {
   "cell_type": "markdown",
   "id": "10c53c0c-8e56-4490-a75d-dd0e1b714091",
   "metadata": {},
   "source": [
    "# EE2003: Assignemnt 3\n",
    "Submitted by Niranjan A. Kartha\n",
    "\n",
    "# Question 8\n",
    "Plot the TLB Miss Rate by varying the Physical Page size keeping the Virtual Memory size constant (at least 4 different sizes of columns). Also vary the number of levels of tables (at least 2 values including default). Analyze the result.\n",
    "\n",
    "## Procedure used\n",
    "I have used a bash script (`sim.sh`) that edits the `champsim_config.json` file appropriately for each value required to be simulated, and runs the simulations in parallel.\n",
    "\n",
    "## Calculations\n",
    "The total virtual memory size is given by\n",
    "```\n",
    "(pte_page_size / bytes_per_pte)^(num_levels) * page_size\n",
    "```\n",
    "\n",
    "`bytes_per_pte` refers to the size of a single page table entry in the page table, and this is a hardcoded constant in ChampSim, given in `inc/vmem.h`:\n",
    "```cpp\n",
    "inline constexpr std::size_t PTE_BYTES = 8;\n",
    "```\n",
    "\n",
    "I have changed the default `num_levels` to `4` instead of `5` in order to make the calculations easier. The default `page_size` and `pte_page_size` are left at `4096`.\n",
    "\n",
    "In order to keep the virtual memory size constant, I vary the `pte_page_size` appropriately according to the `page_size` and `num_levels`:\n",
    "```\n",
    "pte_page_size = 2^(ceil((48 - log2(page_size))/num_levels) + 3)\n",
    "```\n",
    "The extra factor of `3` comes from `log2(bytes_per_pte)`."
   ]
  },
  {
   "cell_type": "code",
   "execution_count": 2,
   "id": "a3100ac9-ee14-41b1-8173-e90cf8fc449d",
   "metadata": {},
   "outputs": [],
   "source": [
    "# first we import some tools required to grap\n",
    "\n",
    "import pandas as pd\n",
    "import seaborn as sns\n",
    "import numpy as np\n",
    "import matplotlib.pyplot as plt\n",
    "%matplotlib inline"
   ]
  },
  {
   "cell_type": "code",
   "execution_count": null,
   "id": "8b31f9fc-cce1-49fa-9ae9-6f822c422bbe",
   "metadata": {},
   "outputs": [],
   "source": []
  }
 ],
 "metadata": {
  "kernelspec": {
   "display_name": "Python 3 (ipykernel)",
   "language": "python",
   "name": "python3"
  },
  "language_info": {
   "codemirror_mode": {
    "name": "ipython",
    "version": 3
   },
   "file_extension": ".py",
   "mimetype": "text/x-python",
   "name": "python",
   "nbconvert_exporter": "python",
   "pygments_lexer": "ipython3",
   "version": "3.11.5"
  }
 },
 "nbformat": 4,
 "nbformat_minor": 5
}
